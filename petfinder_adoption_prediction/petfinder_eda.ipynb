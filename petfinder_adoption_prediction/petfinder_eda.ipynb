{
  "cells": [
    {
      "metadata": {
        "_uuid": "8f2839f25d086af736a60e9eeb907d3b93b6e0e5",
        "_cell_guid": "b1076dfc-b9ad-4769-8c92-a6c4dae69d19",
        "trusted": true
      },
      "cell_type": "code",
      "source": "# This Python 3 environment comes with many helpful analytics libraries installed\n# It is defined by the kaggle/python docker image: https://github.com/kaggle/docker-python\n\nimport numpy as np # linear algebra\nimport pandas as pd # data processing, CSV file I/O (e.g. pd.read_csv)\nimport os\nprint(os.listdir(\"../input\"))",
      "execution_count": null,
      "outputs": []
    },
    {
      "metadata": {
        "_cell_guid": "79c7e3d0-c299-4dcb-8224-4455121ee9b0",
        "collapsed": true,
        "_uuid": "d629ff2d2480ee46fbb7e2d37f6b5fab8052498a",
        "trusted": false
      },
      "cell_type": "markdown",
      "source": "## Project definition\n\n* Goal: predict the adoptability of pets - specifically, how quickly is a pet adopted? predict the speed at which a pet is adopted, based on the pet’s listing on PetFinder. Sometimes a profile represents a group of pets. In this case, the speed of adoption is determined by the speed at which all of the pets are adopted.\n* Metric: quadratic weighted kappa, which measures the agreement between two ratings. it's calculated between the scores which are expected/known and the predicted scores.\n    - -X: less than random agreement between raters\n    - 0: random agreement between raters\n    - 1: complete agreement between raters\n* More at [Evaluation](https://www.kaggle.com/c/petfinder-adoption-prediction#evaluation)\n* Data: text, tabular, image\n    - train.csv, test.csv: tabular/text data\n    - breed_sample.csv: Type, and BreedName for each BreedID. Type 1 is dog, 2 is cat. \n    - color_labels.csv - Contains ColorName for each ColorID\n    - state_labels.csv - Contains StateName for each StateID\n    - images: For pets that have photos, they will be named in the format of PetID-ImageNumber.jpg. Image 1 is the profile (default) photo set for the pet. For privacy purposes, faces, phone numbers and emails have been masked.\n    - image metadata: We have run the images through Google's Vision API, providing analysis on Face Annotation, Label Annotation, Text Annotation and Image Properties. You may optionally utilize this supplementary information for your image analysis. File name format is PetID-ImageNumber.json. Some properties will not exist in JSON file if not present, i.e. Face Annotation. Text Annotation has been simplified to just 1 entry of the entire text description (instead of the detailed JSON result broken down by individual characters and words). Phone numbers and emails are already anonymized in Text Annotation. Google Vision API reference: https://cloud.google.com/vision/docs/reference/rest/v1/images/annotate\n    - sentiment data: We have run each pet profile's description through Google's Natural Language API, providing analysis on sentiment and key entities. You may optionally utilize this supplementary information for your pet description analysis. There are some descriptions that the API could not analyze. As such, there are fewer sentiment files than there are rows in the dataset. File name format is PetID.json. Google Natural Language API reference: https://cloud.google.com/natural-language/docs/basics    \n   "
    },
    {
      "metadata": {
        "trusted": true,
        "_uuid": "f6234d8033699d0b6c440956e724b9ff0be6b4d5"
      },
      "cell_type": "code",
      "source": "train = pd.read_csv('../input/train/train.csv')\ntest = pd.read_csv('../input/test/test.csv')",
      "execution_count": null,
      "outputs": []
    },
    {
      "metadata": {
        "trusted": true,
        "_uuid": "046fac8b246f7f5ca1c3375d802a070b4939f4fa"
      },
      "cell_type": "code",
      "source": "print(\"Shape of training set: \", train.shape)\nprint(\"Shape of test set: \", test.shape)",
      "execution_count": null,
      "outputs": []
    },
    {
      "metadata": {
        "_uuid": "dcaad308e71c1f24b86625c801adf55029ce39ea"
      },
      "cell_type": "markdown",
      "source": "# Tabular data\n\n### Data fields in train, test\n\n* Type - Type of animal (1 = Dog, 2 = Cat)\n* Name - Name of pet (Empty if not named)\n* Age - Age of pet when listed, in months\n* Breed1 - Primary breed of pet (Refer to BreedLabels dictionary)\n* Breed2 - Secondary breed of pet, if pet is of mixed breed (Refer to BreedLabels dictionary)\n* Gender - Gender of pet (1 = Male, 2 = Female, 3 = Mixed, if profile represents group of pets)\n* Color1 - Color 1 of pet (Refer to ColorLabels dictionary)\n* Color2 - Color 2 of pet (Refer to ColorLabels dictionary)\n* Color3 - Color 3 of pet (Refer to ColorLabels dictionary)\n* MaturitySize - Size at maturity (1 = Small, 2 = Medium, 3 = Large, 4 = Extra Large, 0 = Not Specified)\n* FurLength - Fur length (1 = Short, 2 = Medium, 3 = Long, 0 = Not Specified)\n* Vaccinated - Pet has been vaccinated (1 = Yes, 2 = No, 3 = Not Sure)\n* Dewormed - Pet has been dewormed (1 = Yes, 2 = No, 3 = Not Sure)\n* Sterilized - Pet has been spayed / neutered (1 = Yes, 2 = No, 3 = Not Sure)\n* Health - Health Condition (1 = Healthy, 2 = Minor Injury, 3 = Serious Injury, 0 = Not Specified)\n* Quantity - Number of pets represented in profile\n* Fee - Adoption fee (0 = Free)\n* State - State location in Malaysia (Refer to StateLabels dictionary)\n* RescuerID - Unique hash ID of rescuer\n* VideoAmt - Total uploaded videos for this pet\n* Description - Profile write-up for this pet. The primary language used is English, with some in Malay or Chinese.\n* PetID - Unique hash ID of pet profile\n* PhotoAmt - Total uploaded photos for this pet\n* AdoptionSpeed - Categorical speed of adoption. Lower is faster. This is the value to predict. See below sec for more info. Contestants are required to predict this value. The value is determined by how quickly, if at all, a pet is adopted. The values are determined in the following way:\n    - 0 - Pet was adopted on the same day as it was listed.\n    - 1 - Pet was adopted between 1 and 7 days (1st week) after being listed.\n    - 2 - Pet was adopted between 8 and 30 days (1st month) after being listed.\n    - 3 - Pet was adopted between 31 and 90 days (2nd & 3rd month) after being listed.\n    - 4 - No adoption after 100 days of being listed. (There are no pets in this dataset that waited between 90 and 100 days). "
    },
    {
      "metadata": {
        "trusted": true,
        "_uuid": "5e8447f0da9ae22aa1fc9553cd04fbac472e3313"
      },
      "cell_type": "code",
      "source": "train.sample(5)",
      "execution_count": null,
      "outputs": []
    },
    {
      "metadata": {
        "trusted": true,
        "_uuid": "64fd966ab759a5e7300ebd25329584aeea5b0ed1"
      },
      "cell_type": "code",
      "source": "breed_labels = pd.read_csv('../input/breed_labels.csv')\ncolor_labels = pd.read_csv('../input/color_labels.csv')\nstate_labels = pd.read_csv('../input/state_labels.csv')",
      "execution_count": null,
      "outputs": []
    },
    {
      "metadata": {
        "trusted": true,
        "_uuid": "8a35f6176ebe1fc27f639fd450a90de5914ee633"
      },
      "cell_type": "code",
      "source": "breed_labels.sample(5)",
      "execution_count": null,
      "outputs": []
    },
    {
      "metadata": {
        "trusted": true,
        "_uuid": "7142f12ae82cc408c17fedde44d3c90b3482aae0"
      },
      "cell_type": "code",
      "source": "color_labels.sample(5)",
      "execution_count": null,
      "outputs": []
    },
    {
      "metadata": {
        "trusted": true,
        "_uuid": "e32de2899f62c5d676a7a4a4cfe4bc4889ee4d9f"
      },
      "cell_type": "code",
      "source": "state_labels.sample(5)",
      "execution_count": null,
      "outputs": []
    },
    {
      "metadata": {
        "trusted": true,
        "_uuid": "8150b0ca182ba69dab46f33d0c68ff2f247541ca"
      },
      "cell_type": "markdown",
      "source": "# Images\n(adapted from my [images notebook](https://www.kaggle.com/anebzt/images-preprocessing-model))"
    },
    {
      "metadata": {
        "trusted": true,
        "_uuid": "a8dc178e42fe962467abbf70efc5c8ce64ecd39c"
      },
      "cell_type": "code",
      "source": "import cv2\nfrom cv2 import imread, cvtColor, resize, threshold, calcHist, equalizeHist",
      "execution_count": null,
      "outputs": []
    },
    {
      "metadata": {
        "trusted": true,
        "_uuid": "5a698e8e49b079c299f291952d7bf29f2e7e1a39"
      },
      "cell_type": "code",
      "source": "def open_images(path):\n    \n    xall = []\n    j = 0\n    \n    for imgname in os.listdir(path):\n        print(\"Opening image #{}\".format(str(j + 1)), end=\"\\r\")\n        imgpath = os.path.join(path, imgname)\n        img = imread(imgpath, cv2.IMREAD_COLOR)\n        xall.append(img)\n        j += 1\n        \n        # RAM breaks after 30k images\n        if j >= 1000:\n            break\n\n    n = len(xall)\n    print(\"{} images in set.\".format(n))\n    return xall",
      "execution_count": null,
      "outputs": []
    },
    {
      "metadata": {
        "trusted": true,
        "_uuid": "88814ef9107e9d8ecd3298822ec7552cb964d280"
      },
      "cell_type": "code",
      "source": "train_img = open_images(\"../input/train_images/\")\ntest_img = open_images(\"../input/test_images/\")",
      "execution_count": null,
      "outputs": []
    },
    {
      "metadata": {
        "trusted": true,
        "_uuid": "98bb9830b2c4533df9c2424e8d3957d46d54b019"
      },
      "cell_type": "code",
      "source": "train_img[0].shape",
      "execution_count": null,
      "outputs": []
    },
    {
      "metadata": {
        "trusted": true,
        "_uuid": "01f5c5882ade9b9a0eefac741bf25b9eb8ccf785"
      },
      "cell_type": "code",
      "source": "",
      "execution_count": null,
      "outputs": []
    }
  ],
  "metadata": {
    "kernelspec": {
      "display_name": "Python 3",
      "language": "python",
      "name": "python3"
    },
    "language_info": {
      "name": "python",
      "version": "3.6.6",
      "mimetype": "text/x-python",
      "codemirror_mode": {
        "name": "ipython",
        "version": 3
      },
      "pygments_lexer": "ipython3",
      "nbconvert_exporter": "python",
      "file_extension": ".py"
    }
  },
  "nbformat": 4,
  "nbformat_minor": 1
}