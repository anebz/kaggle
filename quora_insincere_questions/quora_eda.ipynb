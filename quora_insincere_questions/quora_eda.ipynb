{
  "cells": [
    {
      "metadata": {
        "_uuid": "8f2839f25d086af736a60e9eeb907d3b93b6e0e5",
        "_cell_guid": "b1076dfc-b9ad-4769-8c92-a6c4dae69d19",
        "trusted": true
      },
      "cell_type": "code",
      "source": "import os\n\nimport numpy as np \nimport pandas as pd\n\nimport matplotlib.pyplot as plt\nimport seaborn as sns\n%matplotlib inline",
      "execution_count": 6,
      "outputs": []
    },
    {
      "metadata": {
        "trusted": true,
        "_uuid": "840823a08129998ba6ddc592f6e8e59aee0e2bac"
      },
      "cell_type": "code",
      "source": "!ls ../input/\n\nprint(\"\\nEmbeddings:\")\n!ls ../input/embeddings/",
      "execution_count": 7,
      "outputs": [
        {
          "output_type": "stream",
          "text": "embeddings  sample_submission.csv  test.csv  train.csv\n\nEmbeddings:\nGoogleNews-vectors-negative300\tparagram_300_sl999\nglove.840B.300d\t\t\twiki-news-300d-1M\n",
          "name": "stdout"
        }
      ]
    },
    {
      "metadata": {
        "_uuid": "ef138e7bedeeee43de5dc4e129141a4f81cb5b61"
      },
      "cell_type": "markdown",
      "source": "### Embeddings\n\n* GoogleNews-vectors-negative300 - https://code.google.com/archive/p/word2vec/\n* glove.840B.300d - https://nlp.stanford.edu/projects/glove/\n* paragram_300_sl999 - https://cogcomp.org/page/resource_view/106\n* wiki-news-300d-1M - https://fasttext.cc/docs/en/english-vectors.html"
    },
    {
      "metadata": {
        "trusted": true,
        "_uuid": "577e8d3b18c3b4da618571995f96196651b6f9de"
      },
      "cell_type": "code",
      "source": "print('File sizes')\nfor f in os.listdir('../input'):\n    if 'zip' not in f:\n        print(f.ljust(30) + str(round(os.path.getsize('../input/' + f) / 1000000, 2)) + 'MB')",
      "execution_count": 8,
      "outputs": [
        {
          "output_type": "stream",
          "text": "File sizes\nembeddings                    0.0MB\ntrain.csv                     124.21MB\nsample_submission.csv         1.3MB\ntest.csv                      5.24MB\n",
          "name": "stdout"
        }
      ]
    },
    {
      "metadata": {
        "_uuid": "e5d945c93793073b68cb4b77ed6da5815ea0baf0"
      },
      "cell_type": "markdown",
      "source": "## Open trainset and testset"
    },
    {
      "metadata": {
        "trusted": true,
        "_uuid": "866b5d46465241b6a005abadfbf75bc3b200a536"
      },
      "cell_type": "code",
      "source": "train = pd.read_csv('../input/train.csv').fillna(' ')\ntest = pd.read_csv('../input/test.csv').fillna(' ')",
      "execution_count": 9,
      "outputs": []
    },
    {
      "metadata": {
        "trusted": true,
        "_uuid": "91131a1a244a09431e0277071855507885f8dae3"
      },
      "cell_type": "code",
      "source": "print(\"Shape of training set: \", train.shape)\nprint(\"Shape of test set: \", test.shape)\n\ntrain_target = train['target'].values\nnp.unique(train_target)\nprint(\"\\nPercentage of insincere questions irt sincere questions: \", train_target.mean(), \"%\")",
      "execution_count": 10,
      "outputs": [
        {
          "output_type": "stream",
          "text": "Shape of training set:  (1306122, 3)\nShape of test set:  (56370, 2)\n\nPercentage of insincere questions irt sincere questions:  0.06187017751787352 %\n",
          "name": "stdout"
        }
      ]
    },
    {
      "metadata": {
        "trusted": true,
        "_uuid": "6fbf6edf551d9306e200de105e07c7cde8698e7c"
      },
      "cell_type": "code",
      "source": "train.sample(10)",
      "execution_count": 11,
      "outputs": [
        {
          "output_type": "execute_result",
          "execution_count": 11,
          "data": {
            "text/plain": "                          qid  ...   target\n1179384  e71cb414144a4b739c7e  ...        0\n342040   43004a88ac93dc331565  ...        0\n120092   17831e37027065a79bc6  ...        0\n662618   81c95ec0f2d759589f67  ...        0\n802058   9d28bbc89ce720ad698e  ...        0\n111343   15cad2f61bbc6e43efc0  ...        0\n348916   445ff6e09a2e15a84ddc  ...        0\n1132349  ddedab4a5a6300177f03  ...        0\n12559    02776e8e68b96b9cdc6a  ...        0\n433152   54e2fe65a2899a40d655  ...        0\n\n[10 rows x 3 columns]",
            "text/html": "<div>\n<style scoped>\n    .dataframe tbody tr th:only-of-type {\n        vertical-align: middle;\n    }\n\n    .dataframe tbody tr th {\n        vertical-align: top;\n    }\n\n    .dataframe thead th {\n        text-align: right;\n    }\n</style>\n<table border=\"1\" class=\"dataframe\">\n  <thead>\n    <tr style=\"text-align: right;\">\n      <th></th>\n      <th>qid</th>\n      <th>question_text</th>\n      <th>target</th>\n    </tr>\n  </thead>\n  <tbody>\n    <tr>\n      <th>1179384</th>\n      <td>e71cb414144a4b739c7e</td>\n      <td>What are some causes for clubfoot?</td>\n      <td>0</td>\n    </tr>\n    <tr>\n      <th>342040</th>\n      <td>43004a88ac93dc331565</td>\n      <td>I recently got expelled from my middle school....</td>\n      <td>0</td>\n    </tr>\n    <tr>\n      <th>120092</th>\n      <td>17831e37027065a79bc6</td>\n      <td>What's the difference between someone who is p...</td>\n      <td>0</td>\n    </tr>\n    <tr>\n      <th>662618</th>\n      <td>81c95ec0f2d759589f67</td>\n      <td>Whatis cutt of physics ph.d. programme for tifr?</td>\n      <td>0</td>\n    </tr>\n    <tr>\n      <th>802058</th>\n      <td>9d28bbc89ce720ad698e</td>\n      <td>What are all the types of fascia and where do ...</td>\n      <td>0</td>\n    </tr>\n    <tr>\n      <th>111343</th>\n      <td>15cad2f61bbc6e43efc0</td>\n      <td>Will indigenous tribes in the United States al...</td>\n      <td>0</td>\n    </tr>\n    <tr>\n      <th>348916</th>\n      <td>445ff6e09a2e15a84ddc</td>\n      <td>What, exactly is \"Model United Nations\"?</td>\n      <td>0</td>\n    </tr>\n    <tr>\n      <th>1132349</th>\n      <td>ddedab4a5a6300177f03</td>\n      <td>How do I make a glitter tornado in a bottle?</td>\n      <td>0</td>\n    </tr>\n    <tr>\n      <th>12559</th>\n      <td>02776e8e68b96b9cdc6a</td>\n      <td>What are the easy steps to overcome depression?</td>\n      <td>0</td>\n    </tr>\n    <tr>\n      <th>433152</th>\n      <td>54e2fe65a2899a40d655</td>\n      <td>Can we lose weight by eating fruit?</td>\n      <td>0</td>\n    </tr>\n  </tbody>\n</table>\n</div>"
          },
          "metadata": {}
        }
      ]
    },
    {
      "metadata": {
        "trusted": true,
        "_uuid": "ce4749543a5d2ff25e62aebfae1b798fb71da3f2"
      },
      "cell_type": "code",
      "source": "test.sample(10)",
      "execution_count": 12,
      "outputs": [
        {
          "output_type": "execute_result",
          "execution_count": 12,
          "data": {
            "text/plain": "                        qid                                      question_text\n28997  82cdbefd57feb49c9311     What is the best way to promote a new startup?\n22241  64ab640396581e78f91b                              What function of PWD?\n25588  73959d8c209ce95e40fd  What are the chances of finding a bride for me...\n52586  eea951548d23e141f7f9  Why are streaks of light and sound produced wh...\n24153  6d0c23d2514a33796dcc  Can a dependent of subclass 400 visa holder wo...\n1602   077c2113d4da435784f1                       What is social proof theory?\n13583  3d73020e8525753e9c79  Do you know the product of Mona Lisa luxury 10...\n13764  3e79c4e4d80b9e2d4805                Where can I get help with my bills?\n39667  b3547463d0ce84d25cc0  What is the minimum requirement for Master stu...\n51285  e87f15d7f1f3a131839f  What is the situation of job market in New Zea...",
            "text/html": "<div>\n<style scoped>\n    .dataframe tbody tr th:only-of-type {\n        vertical-align: middle;\n    }\n\n    .dataframe tbody tr th {\n        vertical-align: top;\n    }\n\n    .dataframe thead th {\n        text-align: right;\n    }\n</style>\n<table border=\"1\" class=\"dataframe\">\n  <thead>\n    <tr style=\"text-align: right;\">\n      <th></th>\n      <th>qid</th>\n      <th>question_text</th>\n    </tr>\n  </thead>\n  <tbody>\n    <tr>\n      <th>28997</th>\n      <td>82cdbefd57feb49c9311</td>\n      <td>What is the best way to promote a new startup?</td>\n    </tr>\n    <tr>\n      <th>22241</th>\n      <td>64ab640396581e78f91b</td>\n      <td>What function of PWD?</td>\n    </tr>\n    <tr>\n      <th>25588</th>\n      <td>73959d8c209ce95e40fd</td>\n      <td>What are the chances of finding a bride for me...</td>\n    </tr>\n    <tr>\n      <th>52586</th>\n      <td>eea951548d23e141f7f9</td>\n      <td>Why are streaks of light and sound produced wh...</td>\n    </tr>\n    <tr>\n      <th>24153</th>\n      <td>6d0c23d2514a33796dcc</td>\n      <td>Can a dependent of subclass 400 visa holder wo...</td>\n    </tr>\n    <tr>\n      <th>1602</th>\n      <td>077c2113d4da435784f1</td>\n      <td>What is social proof theory?</td>\n    </tr>\n    <tr>\n      <th>13583</th>\n      <td>3d73020e8525753e9c79</td>\n      <td>Do you know the product of Mona Lisa luxury 10...</td>\n    </tr>\n    <tr>\n      <th>13764</th>\n      <td>3e79c4e4d80b9e2d4805</td>\n      <td>Where can I get help with my bills?</td>\n    </tr>\n    <tr>\n      <th>39667</th>\n      <td>b3547463d0ce84d25cc0</td>\n      <td>What is the minimum requirement for Master stu...</td>\n    </tr>\n    <tr>\n      <th>51285</th>\n      <td>e87f15d7f1f3a131839f</td>\n      <td>What is the situation of job market in New Zea...</td>\n    </tr>\n  </tbody>\n</table>\n</div>"
          },
          "metadata": {}
        }
      ]
    },
    {
      "metadata": {
        "trusted": true,
        "_uuid": "a1bf6db5561456aff8964e54954b438b2e75635a"
      },
      "cell_type": "code",
      "source": "insincere_q = train[train[\"target\"] == 1][\"question_text\"].tolist()\n\nwith open('insinceres.txt', 'w') as f:\n    for item in insincere_q:\n        f.write(\"%s\\n\" % item)",
      "execution_count": 13,
      "outputs": []
    },
    {
      "metadata": {
        "_uuid": "c88df5e3870b430000f142be5335ef44fb5c0bc6"
      },
      "cell_type": "markdown",
      "source": "## N-gram analysis"
    },
    {
      "metadata": {
        "trusted": true,
        "_uuid": "f8977442c6e6b52d5c11e781b324b7d6f87e3892",
        "_kg_hide-input": true,
        "_kg_hide-output": true
      },
      "cell_type": "code",
      "source": "from collections import defaultdict\nfrom nltk.corpus import stopwords\nfrom plotly import tools\nimport plotly.offline as py\npy.init_notebook_mode(connected=True)\nimport plotly.graph_objs as go\n\nstop_words = set(stopwords.words('english')) \ninsinc_df = train[train.target==1]\nsinc_df = train[train.target==0]\n\ndef plot_ngrams(n_grams):\n\n    ## custom function for ngram generation ##\n    def generate_ngrams(text, n_gram=1):\n        token = [token for token in text.lower().split(\" \") if token != \"\" if token not in stop_words]\n        ngrams = zip(*[token[i:] for i in range(n_gram)])\n        return [\" \".join(ngram) for ngram in ngrams]\n\n    ## custom function for horizontal bar chart ##\n    def horizontal_bar_chart(df, color):\n        trace = go.Bar(\n            y=df[\"word\"].values[::-1],\n            x=df[\"wordcount\"].values[::-1],\n            showlegend=False,\n            orientation = 'h',\n            marker=dict(\n                color=color,\n            ),\n        )\n        return trace\n\n    def get_bar(df, bar_color):\n        freq_dict = defaultdict(int)\n        for sent in df[\"question_text\"]:\n            for word in generate_ngrams(sent, n_grams):\n                freq_dict[word] += 1\n        fd_sorted = pd.DataFrame(sorted(freq_dict.items(), key=lambda x: x[1])[::-1])\n        fd_sorted.columns = [\"word\", \"wordcount\"]\n        trace = horizontal_bar_chart(fd_sorted.head(10), bar_color)\n        return trace    \n\n    trace0 = get_bar(sinc_df, 'blue')\n    trace1 = get_bar(insinc_df, 'blue')\n\n    # Creating two subplots\n    if n_grams == 1:\n        wrd = \"words\"\n    elif n_grams == 2:\n        wrd = \"bigrams\"\n    elif n_grams == 3:\n        wrd = \"trigrams\"\n    \n    fig = tools.make_subplots(rows=1, cols=2, vertical_spacing=0.04,\n                              subplot_titles=[\"Frequent \" + wrd + \" of sincere questions\", \n                                              \"Frequent \" + wrd + \" of insincere questions\"])\n    fig.append_trace(trace0, 1, 1)\n    fig.append_trace(trace1, 1, 2)\n    fig['layout'].update(height=500, width=1150, paper_bgcolor='rgb(233,233,233)', title=wrd + \" Count Plots\")\n    py.iplot(fig, filename='word-plots')\n",
      "execution_count": 14,
      "outputs": [
        {
          "output_type": "display_data",
          "data": {
            "text/html": "<script type=\"text/javascript\">window.PlotlyConfig = {MathJaxConfig: 'local'};</script><script type=\"text/javascript\">if (window.MathJax) {MathJax.Hub.Config({SVG: {font: \"STIX-Web\"}});}</script><script>requirejs.config({paths: { 'plotly': ['https://cdn.plot.ly/plotly-latest.min']},});if(!window._Plotly) {require(['plotly'],function(plotly) {window._Plotly=plotly;});}</script>",
            "text/vnd.plotly.v1+html": "<script type=\"text/javascript\">window.PlotlyConfig = {MathJaxConfig: 'local'};</script><script type=\"text/javascript\">if (window.MathJax) {MathJax.Hub.Config({SVG: {font: \"STIX-Web\"}});}</script><script>requirejs.config({paths: { 'plotly': ['https://cdn.plot.ly/plotly-latest.min']},});if(!window._Plotly) {require(['plotly'],function(plotly) {window._Plotly=plotly;});}</script>"
          },
          "metadata": {}
        }
      ]
    },
    {
      "metadata": {
        "trusted": true,
        "_uuid": "11aefca40f1be0894aff64cd432f7c948514d225"
      },
      "cell_type": "code",
      "source": "plot_ngrams(1)",
      "execution_count": 15,
      "outputs": [
        {
          "output_type": "stream",
          "text": "This is the format of your plot grid:\n[ (1,1) x1,y1 ]  [ (1,2) x2,y2 ]\n\n",
          "name": "stdout"
        },
        {
          "output_type": "display_data",
          "data": {
            "application/vnd.plotly.v1+json": {
              "data": [
                {
                  "marker": {
                    "color": "blue"
                  },
                  "orientation": "h",
                  "showlegend": false,
                  "x": [
                    20788,
                    21641,
                    25696,
                    28840,
                    34827,
                    37618,
                    37960,
                    57105,
                    58731,
                    60816
                  ],
                  "y": [
                    "many",
                    "think",
                    "make",
                    "one",
                    "good",
                    "like",
                    "people",
                    "would",
                    "get",
                    "best"
                  ],
                  "type": "bar",
                  "uid": "e54f159a-8ad3-4443-ab77-915583407e32",
                  "xaxis": "x",
                  "yaxis": "y"
                },
                {
                  "marker": {
                    "color": "blue"
                  },
                  "orientation": "h",
                  "showlegend": false,
                  "x": [
                    3152,
                    3177,
                    3351,
                    3552,
                    3774,
                    4126,
                    4757,
                    4893,
                    5708,
                    11036
                  ],
                  "y": [
                    "men",
                    "get",
                    "white",
                    "many",
                    "think",
                    "would",
                    "women",
                    "trump",
                    "like",
                    "people"
                  ],
                  "type": "bar",
                  "uid": "17deac72-4cc4-4934-89aa-e265cb6fe64f",
                  "xaxis": "x2",
                  "yaxis": "y2"
                }
              ],
              "layout": {
                "annotations": [
                  {
                    "font": {
                      "size": 16
                    },
                    "showarrow": false,
                    "text": "Frequent words of sincere questions",
                    "x": 0.225,
                    "xanchor": "center",
                    "xref": "paper",
                    "y": 1,
                    "yanchor": "bottom",
                    "yref": "paper"
                  },
                  {
                    "font": {
                      "size": 16
                    },
                    "showarrow": false,
                    "text": "Frequent words of insincere questions",
                    "x": 0.775,
                    "xanchor": "center",
                    "xref": "paper",
                    "y": 1,
                    "yanchor": "bottom",
                    "yref": "paper"
                  }
                ],
                "xaxis": {
                  "anchor": "y",
                  "domain": [
                    0,
                    0.45
                  ]
                },
                "yaxis": {
                  "anchor": "x",
                  "domain": [
                    0,
                    1
                  ]
                },
                "xaxis2": {
                  "anchor": "y2",
                  "domain": [
                    0.55,
                    1
                  ]
                },
                "yaxis2": {
                  "anchor": "x2",
                  "domain": [
                    0,
                    1
                  ]
                },
                "height": 500,
                "width": 1150,
                "paper_bgcolor": "rgb(233,233,233)",
                "title": "words Count Plots"
              },
              "config": {
                "showLink": true,
                "linkText": "Export to plot.ly",
                "plotlyServerURL": "https://plot.ly"
              }
            },
            "text/html": "<div id=\"8390f4c6-7545-4c45-9262-8577f850d5e4\" style=\"height: 500px; width: 1150px;\" class=\"plotly-graph-div\"></div><script type=\"text/javascript\">require([\"plotly\"], function(Plotly) { window.PLOTLYENV=window.PLOTLYENV || {};window.PLOTLYENV.BASE_URL=\"https://plot.ly\";Plotly.newPlot(\"8390f4c6-7545-4c45-9262-8577f850d5e4\", [{\"marker\": {\"color\": \"blue\"}, \"orientation\": \"h\", \"showlegend\": false, \"x\": [20788, 21641, 25696, 28840, 34827, 37618, 37960, 57105, 58731, 60816], \"y\": [\"many\", \"think\", \"make\", \"one\", \"good\", \"like\", \"people\", \"would\", \"get\", \"best\"], \"type\": \"bar\", \"uid\": \"e54f159a-8ad3-4443-ab77-915583407e32\", \"xaxis\": \"x\", \"yaxis\": \"y\"}, {\"marker\": {\"color\": \"blue\"}, \"orientation\": \"h\", \"showlegend\": false, \"x\": [3152, 3177, 3351, 3552, 3774, 4126, 4757, 4893, 5708, 11036], \"y\": [\"men\", \"get\", \"white\", \"many\", \"think\", \"would\", \"women\", \"trump\", \"like\", \"people\"], \"type\": \"bar\", \"uid\": \"17deac72-4cc4-4934-89aa-e265cb6fe64f\", \"xaxis\": \"x2\", \"yaxis\": \"y2\"}], {\"annotations\": [{\"font\": {\"size\": 16}, \"showarrow\": false, \"text\": \"Frequent words of sincere questions\", \"x\": 0.225, \"xanchor\": \"center\", \"xref\": \"paper\", \"y\": 1.0, \"yanchor\": \"bottom\", \"yref\": \"paper\"}, {\"font\": {\"size\": 16}, \"showarrow\": false, \"text\": \"Frequent words of insincere questions\", \"x\": 0.775, \"xanchor\": \"center\", \"xref\": \"paper\", \"y\": 1.0, \"yanchor\": \"bottom\", \"yref\": \"paper\"}], \"xaxis\": {\"anchor\": \"y\", \"domain\": [0.0, 0.45]}, \"yaxis\": {\"anchor\": \"x\", \"domain\": [0.0, 1.0]}, \"xaxis2\": {\"anchor\": \"y2\", \"domain\": [0.55, 1.0]}, \"yaxis2\": {\"anchor\": \"x2\", \"domain\": [0.0, 1.0]}, \"height\": 500, \"width\": 1150, \"paper_bgcolor\": \"rgb(233,233,233)\", \"title\": \"words Count Plots\"}, {\"showLink\": true, \"linkText\": \"Export to plot.ly\", \"plotlyServerURL\": \"https://plot.ly\"})});</script>",
            "text/vnd.plotly.v1+html": "<div id=\"8390f4c6-7545-4c45-9262-8577f850d5e4\" style=\"height: 500px; width: 1150px;\" class=\"plotly-graph-div\"></div><script type=\"text/javascript\">require([\"plotly\"], function(Plotly) { window.PLOTLYENV=window.PLOTLYENV || {};window.PLOTLYENV.BASE_URL=\"https://plot.ly\";Plotly.newPlot(\"8390f4c6-7545-4c45-9262-8577f850d5e4\", [{\"marker\": {\"color\": \"blue\"}, \"orientation\": \"h\", \"showlegend\": false, \"x\": [20788, 21641, 25696, 28840, 34827, 37618, 37960, 57105, 58731, 60816], \"y\": [\"many\", \"think\", \"make\", \"one\", \"good\", \"like\", \"people\", \"would\", \"get\", \"best\"], \"type\": \"bar\", \"uid\": \"e54f159a-8ad3-4443-ab77-915583407e32\", \"xaxis\": \"x\", \"yaxis\": \"y\"}, {\"marker\": {\"color\": \"blue\"}, \"orientation\": \"h\", \"showlegend\": false, \"x\": [3152, 3177, 3351, 3552, 3774, 4126, 4757, 4893, 5708, 11036], \"y\": [\"men\", \"get\", \"white\", \"many\", \"think\", \"would\", \"women\", \"trump\", \"like\", \"people\"], \"type\": \"bar\", \"uid\": \"17deac72-4cc4-4934-89aa-e265cb6fe64f\", \"xaxis\": \"x2\", \"yaxis\": \"y2\"}], {\"annotations\": [{\"font\": {\"size\": 16}, \"showarrow\": false, \"text\": \"Frequent words of sincere questions\", \"x\": 0.225, \"xanchor\": \"center\", \"xref\": \"paper\", \"y\": 1.0, \"yanchor\": \"bottom\", \"yref\": \"paper\"}, {\"font\": {\"size\": 16}, \"showarrow\": false, \"text\": \"Frequent words of insincere questions\", \"x\": 0.775, \"xanchor\": \"center\", \"xref\": \"paper\", \"y\": 1.0, \"yanchor\": \"bottom\", \"yref\": \"paper\"}], \"xaxis\": {\"anchor\": \"y\", \"domain\": [0.0, 0.45]}, \"yaxis\": {\"anchor\": \"x\", \"domain\": [0.0, 1.0]}, \"xaxis2\": {\"anchor\": \"y2\", \"domain\": [0.55, 1.0]}, \"yaxis2\": {\"anchor\": \"x2\", \"domain\": [0.0, 1.0]}, \"height\": 500, \"width\": 1150, \"paper_bgcolor\": \"rgb(233,233,233)\", \"title\": \"words Count Plots\"}, {\"showLink\": true, \"linkText\": \"Export to plot.ly\", \"plotlyServerURL\": \"https://plot.ly\"})});</script>"
          },
          "metadata": {}
        }
      ]
    },
    {
      "metadata": {
        "trusted": true,
        "_uuid": "a611fa3718b5d0ad341d7fef4e9d185730474659"
      },
      "cell_type": "code",
      "source": "plot_ngrams(2)",
      "execution_count": 16,
      "outputs": [
        {
          "output_type": "stream",
          "text": "This is the format of your plot grid:\n[ (1,1) x1,y1 ]  [ (1,2) x2,y2 ]\n\n",
          "name": "stdout"
        },
        {
          "output_type": "display_data",
          "data": {
            "application/vnd.plotly.v1+json": {
              "data": [
                {
                  "marker": {
                    "color": "blue"
                  },
                  "orientation": "h",
                  "showlegend": false,
                  "x": [
                    1859,
                    1870,
                    1922,
                    1931,
                    2196,
                    2274,
                    2317,
                    2972,
                    3350,
                    6973
                  ],
                  "y": [
                    "even though",
                    "computer science",
                    "would like",
                    "many people",
                    "what's best",
                    "feel like",
                    "get rid",
                    "year old",
                    "would happen",
                    "best way"
                  ],
                  "type": "bar",
                  "uid": "2f973dfa-6494-4281-9314-02910795e4f3",
                  "xaxis": "x",
                  "yaxis": "y"
                },
                {
                  "marker": {
                    "color": "blue"
                  },
                  "orientation": "h",
                  "showlegend": false,
                  "x": [
                    305,
                    328,
                    330,
                    335,
                    335,
                    360,
                    383,
                    652,
                    673,
                    1076
                  ],
                  "y": [
                    "hillary clinton",
                    "president trump",
                    "year old",
                    "trump supporters",
                    "even though",
                    "united states",
                    "many people",
                    "black people",
                    "white people",
                    "donald trump"
                  ],
                  "type": "bar",
                  "uid": "d09cd160-1424-4afc-b38a-0744ef9113f2",
                  "xaxis": "x2",
                  "yaxis": "y2"
                }
              ],
              "layout": {
                "annotations": [
                  {
                    "font": {
                      "size": 16
                    },
                    "showarrow": false,
                    "text": "Frequent bigrams of sincere questions",
                    "x": 0.225,
                    "xanchor": "center",
                    "xref": "paper",
                    "y": 1,
                    "yanchor": "bottom",
                    "yref": "paper"
                  },
                  {
                    "font": {
                      "size": 16
                    },
                    "showarrow": false,
                    "text": "Frequent bigrams of insincere questions",
                    "x": 0.775,
                    "xanchor": "center",
                    "xref": "paper",
                    "y": 1,
                    "yanchor": "bottom",
                    "yref": "paper"
                  }
                ],
                "xaxis": {
                  "anchor": "y",
                  "domain": [
                    0,
                    0.45
                  ]
                },
                "yaxis": {
                  "anchor": "x",
                  "domain": [
                    0,
                    1
                  ]
                },
                "xaxis2": {
                  "anchor": "y2",
                  "domain": [
                    0.55,
                    1
                  ]
                },
                "yaxis2": {
                  "anchor": "x2",
                  "domain": [
                    0,
                    1
                  ]
                },
                "height": 500,
                "width": 1150,
                "paper_bgcolor": "rgb(233,233,233)",
                "title": "bigrams Count Plots"
              },
              "config": {
                "showLink": true,
                "linkText": "Export to plot.ly",
                "plotlyServerURL": "https://plot.ly"
              }
            },
            "text/html": "<div id=\"97241c96-aa8f-40bb-9431-f32ad408b5ae\" style=\"height: 500px; width: 1150px;\" class=\"plotly-graph-div\"></div><script type=\"text/javascript\">require([\"plotly\"], function(Plotly) { window.PLOTLYENV=window.PLOTLYENV || {};window.PLOTLYENV.BASE_URL=\"https://plot.ly\";Plotly.newPlot(\"97241c96-aa8f-40bb-9431-f32ad408b5ae\", [{\"marker\": {\"color\": \"blue\"}, \"orientation\": \"h\", \"showlegend\": false, \"x\": [1859, 1870, 1922, 1931, 2196, 2274, 2317, 2972, 3350, 6973], \"y\": [\"even though\", \"computer science\", \"would like\", \"many people\", \"what's best\", \"feel like\", \"get rid\", \"year old\", \"would happen\", \"best way\"], \"type\": \"bar\", \"uid\": \"2f973dfa-6494-4281-9314-02910795e4f3\", \"xaxis\": \"x\", \"yaxis\": \"y\"}, {\"marker\": {\"color\": \"blue\"}, \"orientation\": \"h\", \"showlegend\": false, \"x\": [305, 328, 330, 335, 335, 360, 383, 652, 673, 1076], \"y\": [\"hillary clinton\", \"president trump\", \"year old\", \"trump supporters\", \"even though\", \"united states\", \"many people\", \"black people\", \"white people\", \"donald trump\"], \"type\": \"bar\", \"uid\": \"d09cd160-1424-4afc-b38a-0744ef9113f2\", \"xaxis\": \"x2\", \"yaxis\": \"y2\"}], {\"annotations\": [{\"font\": {\"size\": 16}, \"showarrow\": false, \"text\": \"Frequent bigrams of sincere questions\", \"x\": 0.225, \"xanchor\": \"center\", \"xref\": \"paper\", \"y\": 1.0, \"yanchor\": \"bottom\", \"yref\": \"paper\"}, {\"font\": {\"size\": 16}, \"showarrow\": false, \"text\": \"Frequent bigrams of insincere questions\", \"x\": 0.775, \"xanchor\": \"center\", \"xref\": \"paper\", \"y\": 1.0, \"yanchor\": \"bottom\", \"yref\": \"paper\"}], \"xaxis\": {\"anchor\": \"y\", \"domain\": [0.0, 0.45]}, \"yaxis\": {\"anchor\": \"x\", \"domain\": [0.0, 1.0]}, \"xaxis2\": {\"anchor\": \"y2\", \"domain\": [0.55, 1.0]}, \"yaxis2\": {\"anchor\": \"x2\", \"domain\": [0.0, 1.0]}, \"height\": 500, \"width\": 1150, \"paper_bgcolor\": \"rgb(233,233,233)\", \"title\": \"bigrams Count Plots\"}, {\"showLink\": true, \"linkText\": \"Export to plot.ly\", \"plotlyServerURL\": \"https://plot.ly\"})});</script>",
            "text/vnd.plotly.v1+html": "<div id=\"97241c96-aa8f-40bb-9431-f32ad408b5ae\" style=\"height: 500px; width: 1150px;\" class=\"plotly-graph-div\"></div><script type=\"text/javascript\">require([\"plotly\"], function(Plotly) { window.PLOTLYENV=window.PLOTLYENV || {};window.PLOTLYENV.BASE_URL=\"https://plot.ly\";Plotly.newPlot(\"97241c96-aa8f-40bb-9431-f32ad408b5ae\", [{\"marker\": {\"color\": \"blue\"}, \"orientation\": \"h\", \"showlegend\": false, \"x\": [1859, 1870, 1922, 1931, 2196, 2274, 2317, 2972, 3350, 6973], \"y\": [\"even though\", \"computer science\", \"would like\", \"many people\", \"what's best\", \"feel like\", \"get rid\", \"year old\", \"would happen\", \"best way\"], \"type\": \"bar\", \"uid\": \"2f973dfa-6494-4281-9314-02910795e4f3\", \"xaxis\": \"x\", \"yaxis\": \"y\"}, {\"marker\": {\"color\": \"blue\"}, \"orientation\": \"h\", \"showlegend\": false, \"x\": [305, 328, 330, 335, 335, 360, 383, 652, 673, 1076], \"y\": [\"hillary clinton\", \"president trump\", \"year old\", \"trump supporters\", \"even though\", \"united states\", \"many people\", \"black people\", \"white people\", \"donald trump\"], \"type\": \"bar\", \"uid\": \"d09cd160-1424-4afc-b38a-0744ef9113f2\", \"xaxis\": \"x2\", \"yaxis\": \"y2\"}], {\"annotations\": [{\"font\": {\"size\": 16}, \"showarrow\": false, \"text\": \"Frequent bigrams of sincere questions\", \"x\": 0.225, \"xanchor\": \"center\", \"xref\": \"paper\", \"y\": 1.0, \"yanchor\": \"bottom\", \"yref\": \"paper\"}, {\"font\": {\"size\": 16}, \"showarrow\": false, \"text\": \"Frequent bigrams of insincere questions\", \"x\": 0.775, \"xanchor\": \"center\", \"xref\": \"paper\", \"y\": 1.0, \"yanchor\": \"bottom\", \"yref\": \"paper\"}], \"xaxis\": {\"anchor\": \"y\", \"domain\": [0.0, 0.45]}, \"yaxis\": {\"anchor\": \"x\", \"domain\": [0.0, 1.0]}, \"xaxis2\": {\"anchor\": \"y2\", \"domain\": [0.55, 1.0]}, \"yaxis2\": {\"anchor\": \"x2\", \"domain\": [0.0, 1.0]}, \"height\": 500, \"width\": 1150, \"paper_bgcolor\": \"rgb(233,233,233)\", \"title\": \"bigrams Count Plots\"}, {\"showLink\": true, \"linkText\": \"Export to plot.ly\", \"plotlyServerURL\": \"https://plot.ly\"})});</script>"
          },
          "metadata": {}
        }
      ]
    },
    {
      "metadata": {
        "trusted": true,
        "_uuid": "3bd837725f0c58e64a8fa719f9591298586b9e9f"
      },
      "cell_type": "code",
      "source": "plot_ngrams(3)",
      "execution_count": 17,
      "outputs": [
        {
          "output_type": "stream",
          "text": "This is the format of your plot grid:\n[ (1,1) x1,y1 ]  [ (1,2) x2,y2 ]\n\n",
          "name": "stdout"
        },
        {
          "output_type": "display_data",
          "data": {
            "application/vnd.plotly.v1+json": {
              "data": [
                {
                  "marker": {
                    "color": "blue"
                  },
                  "orientation": "h",
                  "showlegend": false,
                  "x": [
                    519,
                    519,
                    519,
                    523,
                    637,
                    713,
                    713,
                    716,
                    832,
                    914
                  ],
                  "y": [
                    "good hotels short-term",
                    "hotels short-term business",
                    "short-term business travelers",
                    "best way get",
                    "would give someone",
                    "useful tips someone",
                    "someone starting work",
                    "tips someone starting",
                    "what's best way",
                    "advice would give"
                  ],
                  "type": "bar",
                  "uid": "25eba822-e691-4771-9be8-eb056b050ac6",
                  "xaxis": "x",
                  "yaxis": "y"
                },
                {
                  "marker": {
                    "color": "blue"
                  },
                  "orientation": "h",
                  "showlegend": false,
                  "x": [
                    27,
                    28,
                    30,
                    31,
                    31,
                    33,
                    33,
                    35,
                    36,
                    42
                  ],
                  "y": [
                    "13 year old",
                    "gun control advocates",
                    "ask stupid questions",
                    "think donald trump",
                    "united states america",
                    "14 year old",
                    "people still believe",
                    "12 year old",
                    "kim jong un",
                    "black lives matter"
                  ],
                  "type": "bar",
                  "uid": "4868e2e9-9d29-4898-a139-83aa7e1ec973",
                  "xaxis": "x2",
                  "yaxis": "y2"
                }
              ],
              "layout": {
                "annotations": [
                  {
                    "font": {
                      "size": 16
                    },
                    "showarrow": false,
                    "text": "Frequent trigrams of sincere questions",
                    "x": 0.225,
                    "xanchor": "center",
                    "xref": "paper",
                    "y": 1,
                    "yanchor": "bottom",
                    "yref": "paper"
                  },
                  {
                    "font": {
                      "size": 16
                    },
                    "showarrow": false,
                    "text": "Frequent trigrams of insincere questions",
                    "x": 0.775,
                    "xanchor": "center",
                    "xref": "paper",
                    "y": 1,
                    "yanchor": "bottom",
                    "yref": "paper"
                  }
                ],
                "xaxis": {
                  "anchor": "y",
                  "domain": [
                    0,
                    0.45
                  ]
                },
                "yaxis": {
                  "anchor": "x",
                  "domain": [
                    0,
                    1
                  ]
                },
                "xaxis2": {
                  "anchor": "y2",
                  "domain": [
                    0.55,
                    1
                  ]
                },
                "yaxis2": {
                  "anchor": "x2",
                  "domain": [
                    0,
                    1
                  ]
                },
                "height": 500,
                "width": 1150,
                "paper_bgcolor": "rgb(233,233,233)",
                "title": "trigrams Count Plots"
              },
              "config": {
                "showLink": true,
                "linkText": "Export to plot.ly",
                "plotlyServerURL": "https://plot.ly"
              }
            },
            "text/html": "<div id=\"c2edab70-e4c1-4315-8da3-425cc2458e8f\" style=\"height: 500px; width: 1150px;\" class=\"plotly-graph-div\"></div><script type=\"text/javascript\">require([\"plotly\"], function(Plotly) { window.PLOTLYENV=window.PLOTLYENV || {};window.PLOTLYENV.BASE_URL=\"https://plot.ly\";Plotly.newPlot(\"c2edab70-e4c1-4315-8da3-425cc2458e8f\", [{\"marker\": {\"color\": \"blue\"}, \"orientation\": \"h\", \"showlegend\": false, \"x\": [519, 519, 519, 523, 637, 713, 713, 716, 832, 914], \"y\": [\"good hotels short-term\", \"hotels short-term business\", \"short-term business travelers\", \"best way get\", \"would give someone\", \"useful tips someone\", \"someone starting work\", \"tips someone starting\", \"what's best way\", \"advice would give\"], \"type\": \"bar\", \"uid\": \"25eba822-e691-4771-9be8-eb056b050ac6\", \"xaxis\": \"x\", \"yaxis\": \"y\"}, {\"marker\": {\"color\": \"blue\"}, \"orientation\": \"h\", \"showlegend\": false, \"x\": [27, 28, 30, 31, 31, 33, 33, 35, 36, 42], \"y\": [\"13 year old\", \"gun control advocates\", \"ask stupid questions\", \"think donald trump\", \"united states america\", \"14 year old\", \"people still believe\", \"12 year old\", \"kim jong un\", \"black lives matter\"], \"type\": \"bar\", \"uid\": \"4868e2e9-9d29-4898-a139-83aa7e1ec973\", \"xaxis\": \"x2\", \"yaxis\": \"y2\"}], {\"annotations\": [{\"font\": {\"size\": 16}, \"showarrow\": false, \"text\": \"Frequent trigrams of sincere questions\", \"x\": 0.225, \"xanchor\": \"center\", \"xref\": \"paper\", \"y\": 1.0, \"yanchor\": \"bottom\", \"yref\": \"paper\"}, {\"font\": {\"size\": 16}, \"showarrow\": false, \"text\": \"Frequent trigrams of insincere questions\", \"x\": 0.775, \"xanchor\": \"center\", \"xref\": \"paper\", \"y\": 1.0, \"yanchor\": \"bottom\", \"yref\": \"paper\"}], \"xaxis\": {\"anchor\": \"y\", \"domain\": [0.0, 0.45]}, \"yaxis\": {\"anchor\": \"x\", \"domain\": [0.0, 1.0]}, \"xaxis2\": {\"anchor\": \"y2\", \"domain\": [0.55, 1.0]}, \"yaxis2\": {\"anchor\": \"x2\", \"domain\": [0.0, 1.0]}, \"height\": 500, \"width\": 1150, \"paper_bgcolor\": \"rgb(233,233,233)\", \"title\": \"trigrams Count Plots\"}, {\"showLink\": true, \"linkText\": \"Export to plot.ly\", \"plotlyServerURL\": \"https://plot.ly\"})});</script>",
            "text/vnd.plotly.v1+html": "<div id=\"c2edab70-e4c1-4315-8da3-425cc2458e8f\" style=\"height: 500px; width: 1150px;\" class=\"plotly-graph-div\"></div><script type=\"text/javascript\">require([\"plotly\"], function(Plotly) { window.PLOTLYENV=window.PLOTLYENV || {};window.PLOTLYENV.BASE_URL=\"https://plot.ly\";Plotly.newPlot(\"c2edab70-e4c1-4315-8da3-425cc2458e8f\", [{\"marker\": {\"color\": \"blue\"}, \"orientation\": \"h\", \"showlegend\": false, \"x\": [519, 519, 519, 523, 637, 713, 713, 716, 832, 914], \"y\": [\"good hotels short-term\", \"hotels short-term business\", \"short-term business travelers\", \"best way get\", \"would give someone\", \"useful tips someone\", \"someone starting work\", \"tips someone starting\", \"what's best way\", \"advice would give\"], \"type\": \"bar\", \"uid\": \"25eba822-e691-4771-9be8-eb056b050ac6\", \"xaxis\": \"x\", \"yaxis\": \"y\"}, {\"marker\": {\"color\": \"blue\"}, \"orientation\": \"h\", \"showlegend\": false, \"x\": [27, 28, 30, 31, 31, 33, 33, 35, 36, 42], \"y\": [\"13 year old\", \"gun control advocates\", \"ask stupid questions\", \"think donald trump\", \"united states america\", \"14 year old\", \"people still believe\", \"12 year old\", \"kim jong un\", \"black lives matter\"], \"type\": \"bar\", \"uid\": \"4868e2e9-9d29-4898-a139-83aa7e1ec973\", \"xaxis\": \"x2\", \"yaxis\": \"y2\"}], {\"annotations\": [{\"font\": {\"size\": 16}, \"showarrow\": false, \"text\": \"Frequent trigrams of sincere questions\", \"x\": 0.225, \"xanchor\": \"center\", \"xref\": \"paper\", \"y\": 1.0, \"yanchor\": \"bottom\", \"yref\": \"paper\"}, {\"font\": {\"size\": 16}, \"showarrow\": false, \"text\": \"Frequent trigrams of insincere questions\", \"x\": 0.775, \"xanchor\": \"center\", \"xref\": \"paper\", \"y\": 1.0, \"yanchor\": \"bottom\", \"yref\": \"paper\"}], \"xaxis\": {\"anchor\": \"y\", \"domain\": [0.0, 0.45]}, \"yaxis\": {\"anchor\": \"x\", \"domain\": [0.0, 1.0]}, \"xaxis2\": {\"anchor\": \"y2\", \"domain\": [0.55, 1.0]}, \"yaxis2\": {\"anchor\": \"x2\", \"domain\": [0.0, 1.0]}, \"height\": 500, \"width\": 1150, \"paper_bgcolor\": \"rgb(233,233,233)\", \"title\": \"trigrams Count Plots\"}, {\"showLink\": true, \"linkText\": \"Export to plot.ly\", \"plotlyServerURL\": \"https://plot.ly\"})});</script>"
          },
          "metadata": {}
        }
      ]
    },
    {
      "metadata": {
        "trusted": true,
        "_uuid": "6642bd8fdf0eb3709f5ffad14fbc3fb696608788"
      },
      "cell_type": "code",
      "source": "## Number of words in the text\ntrain[\"num_words\"] = train[\"question_text\"].apply(lambda x: len(str(x).split()))\ntest[\"num_words\"] = test[\"question_text\"].apply(lambda x: len(str(x).split()))\n\n## Number of unique words in the text\ntrain[\"num_unique_words\"] = train[\"question_text\"].apply(lambda x: len(set(str(x).split())))\ntest[\"num_unique_words\"] = test[\"question_text\"].apply(lambda x: len(set(str(x).split())))\n\n## Number of characters in the text\ntrain[\"num_chars\"] = train[\"question_text\"].apply(lambda x: len(str(x)))\ntest[\"num_chars\"] = test[\"question_text\"].apply(lambda x: len(str(x)))\n\n## Number of stopwords in the text\ntrain[\"num_stopwords\"] = train[\"question_text\"].apply(lambda x: len([w for w in str(x).lower().split() if w in stop_words]))\ntest[\"num_stopwords\"] = test[\"question_text\"].apply(lambda x: len([w for w in str(x).lower().split() if w in stop_words]))\n\n## Average length of the words in the text\ntrain[\"mean_word_len\"] = train[\"question_text\"].apply(lambda x: np.mean([len(w) for w in str(x).split()]))\ntest[\"mean_word_len\"] = test[\"question_text\"].apply(lambda x: np.mean([len(w) for w in str(x).split()]))",
      "execution_count": null,
      "outputs": []
    },
    {
      "metadata": {
        "trusted": true,
        "_uuid": "b24de38863c9793f99cc64a5846d205be8a2abc9"
      },
      "cell_type": "code",
      "source": "## Truncate some extreme values for better visuals ##\ntrain['num_words'].loc[train['num_words']>50] = 50\ntrain['num_unique_words'].loc[train['num_unique_words']>50] = 50\ntrain['num_chars'].loc[train['num_chars']>300] = 300\ntrain['mean_word_len'].loc[train['mean_word_len']>10] = 10\n\nf, axes = plt.subplots(5, 1, figsize=(15,40))\n\nsns.boxplot(x='target', y='num_words', data=train, ax=axes[0])\naxes[0].set_xlabel('Target', fontsize=12)\naxes[0].set_title(\"Number of words in each class\", fontsize=15)\n\nsns.boxplot(x='target', y='num_unique_words', data=train, ax=axes[1])\naxes[1].set_xlabel('Target', fontsize=12)\naxes[1].set_title(\"Number of unique words in each class\", fontsize=15)\n\nsns.boxplot(x='target', y='num_chars', data=train, ax=axes[2])\naxes[2].set_xlabel('Target', fontsize=12)\naxes[2].set_title(\"Number of characters in each class\", fontsize=15)\n\nsns.boxplot(x='target', y='num_stopwords', data=train, ax=axes[3])\naxes[3].set_xlabel('Target', fontsize=12)\naxes[3].set_title(\"Number of stopwords in each class\", fontsize=15)\n\nsns.boxplot(x='target', y='mean_word_len', data=train, ax=axes[4])\naxes[4].set_xlabel('Target', fontsize=12)\naxes[4].set_title(\"Mean word length in each class\", fontsize=15)\n\nplt.show()",
      "execution_count": null,
      "outputs": []
    },
    {
      "metadata": {
        "trusted": true,
        "scrolled": false,
        "_uuid": "3fa7c2b5998f9f0297a05fde5fedfa04455b6e68"
      },
      "cell_type": "code",
      "source": "print(train.columns)\ntrain.head()",
      "execution_count": null,
      "outputs": []
    },
    {
      "metadata": {
        "trusted": true,
        "_uuid": "649d2da9ae84fd04d07872e944ffa88a5815115f"
      },
      "cell_type": "markdown",
      "source": "### References\n\n* [General EDA](https://www.kaggle.com/tunguz/just-some-simple-eda)\n* [Exploration notebook](https://www.kaggle.com/sudalairajkumar/simple-exploration-notebook-qiqc)"
    }
  ],
  "metadata": {
    "kernelspec": {
      "display_name": "Python 3",
      "language": "python",
      "name": "python3"
    },
    "language_info": {
      "name": "python",
      "version": "3.6.6",
      "mimetype": "text/x-python",
      "codemirror_mode": {
        "name": "ipython",
        "version": 3
      },
      "pygments_lexer": "ipython3",
      "nbconvert_exporter": "python",
      "file_extension": ".py"
    }
  },
  "nbformat": 4,
  "nbformat_minor": 1
}