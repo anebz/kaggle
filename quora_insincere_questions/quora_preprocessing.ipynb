{
  "cells": [
    {
      "metadata": {
        "_uuid": "8f2839f25d086af736a60e9eeb907d3b93b6e0e5",
        "_cell_guid": "b1076dfc-b9ad-4769-8c92-a6c4dae69d19",
        "trusted": true
      },
      "cell_type": "code",
      "source": "import os\nimport re\nimport string\n\nimport numpy as np \nimport pandas as pd\n\nimport matplotlib.pyplot as plt\nimport seaborn as sns\n%matplotlib inline\n\nimport nltk\nfrom nltk.corpus import stopwords",
      "execution_count": null,
      "outputs": []
    },
    {
      "metadata": {
        "_cell_guid": "79c7e3d0-c299-4dcb-8224-4455121ee9b0",
        "_uuid": "d629ff2d2480ee46fbb7e2d37f6b5fab8052498a",
        "trusted": true,
        "_kg_hide-output": true
      },
      "cell_type": "code",
      "source": "train = pd.read_csv(\"../input/train.csv\")\ntest = pd.read_csv(\"../input/test.csv\")\ndf = pd.concat([train ,test])\nprint(\"Train shape : \",train.shape)\nprint(\"Test shape : \",test.shape)",
      "execution_count": null,
      "outputs": []
    },
    {
      "metadata": {
        "_uuid": "49b43168bacd6b9b939b0a89301b59720ab3c536"
      },
      "cell_type": "markdown",
      "source": "# Preprocessing\n\n[Dieter](https://www.kaggle.com/christofhenkel):\n\nI start with two golden rules:\n\n1. **Don't use standard preprocessing steps like stemming or stopword removal when you have pre-trained embeddings**\n\nSome of you might used standard preprocessing steps when doing word count based feature extraction (e.g. TFIDF) such as removing stopwords, stemming etc. The reason is simple: You loose valuable information, which would help your NN to figure things out.\n\n2. **Get your vocabulary as close to the embeddings as possible**\n\nI will focus in this notebook, how to achieve that. For an example I take the GoogleNews pretrained embeddings, there is no deeper reason for this choice."
    },
    {
      "metadata": {
        "trusted": true,
        "_uuid": "09061d8d79c37d43eeb159383be53b9568738809"
      },
      "cell_type": "code",
      "source": "# tracks the training vocabulary, which goes through all our text and counts the occurance of the contained words.\ndef build_vocab(texts):\n    \"\"\"\n    input: list of list of words\n    output: dictionary of words and their count\n    \"\"\"\n    sentences = texts.apply(lambda x: x.split()).values\n    vocab = {}\n    for sentence in sentences:\n        for word in sentence:\n            try:\n                vocab[word] += 1\n            except KeyError:\n                vocab[word] = 1\n    return vocab",
      "execution_count": null,
      "outputs": []
    },
    {
      "metadata": {
        "trusted": true,
        "_uuid": "bacf2c61a1f03e236c5a73dfb4e214886d2b3c0b"
      },
      "cell_type": "code",
      "source": "# populate the vocabulary\nvocab = build_vocab(df['question_text'])\n# display the first 5 elements and their count\nprint({k: vocab[k] for k in list(vocab)[:5]})",
      "execution_count": null,
      "outputs": []
    },
    {
      "metadata": {
        "trusted": true,
        "_uuid": "3a2812853014e6355bf64210a391c343fffaaccf"
      },
      "cell_type": "code",
      "source": "def load_embed(file):\n    def get_coefs(word,*arr): \n        return word, np.asarray(arr, dtype='float32')\n    \n    if file == '../input/embeddings/wiki-news-300d-1M/wiki-news-300d-1M.vec':\n        embeddings_index = dict(get_coefs(*o.split(\" \")) for o in open(file) if len(o)>100)\n    else:\n        embeddings_index = dict(get_coefs(*o.split(\" \")) for o in open(file, encoding='latin'))\n        \n    return embeddings_index",
      "execution_count": null,
      "outputs": []
    },
    {
      "metadata": {
        "trusted": true,
        "_uuid": "db8c569ec68c20f47aa42965aa1ac16f558853a8"
      },
      "cell_type": "code",
      "source": "glove = '../input/embeddings/glove.840B.300d/glove.840B.300d.txt'\nparagram =  '../input/embeddings/paragram_300_sl999/paragram_300_sl999.txt'\nwiki_news = '../input/embeddings/wiki-news-300d-1M/wiki-news-300d-1M.vec'\n\nprint(\"Extracting GloVe embedding\")\nembed_glove = load_embed(glove)\n#print(\"Extracting Paragram embedding\")\n#embed_paragram = load_embed(paragram)\n#print(\"Extracting FastText embedding\")\n#embed_fasttext = load_embed(wiki_news)\n\n# often leads to memory problems",
      "execution_count": null,
      "outputs": []
    },
    {
      "metadata": {
        "trusted": true,
        "_uuid": "16c92507ec3ed05998b7e3e2218f6dc113d13bd9"
      },
      "cell_type": "code",
      "source": "import operator\n\n# checks the intersection between our vocabulary and the embeddings. \n# It will output a list of out of vocabulary (oov) words that we can use to improve our preprocessing\ndef check_coverage(vocab, embeddings_index):\n    known_words = {}\n    unknown_words = {}\n    nb_known_words = 0\n    nb_unknown_words = 0\n    for word in vocab.keys():\n        try:\n            known_words[word] = embeddings_index[word]\n            nb_known_words += vocab[word]\n        except:\n            unknown_words[word] = vocab[word]\n            nb_unknown_words += vocab[word]\n            pass\n\n    print('Found embeddings for {:.3%} of vocabulary'.format(len(known_words)/len(vocab)))\n    print('Found embeddings for  {:.3%} of all text'.format(nb_known_words/(nb_known_words + nb_unknown_words)))\n    unknown_words = sorted(unknown_words.items(), key=operator.itemgetter(1))[::-1]\n\n    return unknown_words",
      "execution_count": null,
      "outputs": []
    },
    {
      "metadata": {
        "trusted": true,
        "_uuid": "32fb6aa49c305f405b1f6461a7a467541671ce67"
      },
      "cell_type": "code",
      "source": "print(\"Glove: \")\noov_glove = check_coverage(vocab, embed_glove)\n#print(\"Paragram: \")\n#oov_paragram = check_coverage(vocab, embed_paragram)\n#print(\"FastText: \")\n#oov_fasttext = check_coverage(vocab, embed_fasttext)",
      "execution_count": null,
      "outputs": []
    },
    {
      "metadata": {
        "_uuid": "757d05bae4e3b997dbc358059a721ef60e4db2f8"
      },
      "cell_type": "markdown",
      "source": "21% of our data is more or less useless. So lets have a look and start improving. For this we can easily have a look at the top oov words.\ngoal is to approximate text/vocabulary as much as to the embeddings as possible"
    },
    {
      "metadata": {
        "trusted": true,
        "_uuid": "2f536fb0710beaf6e83396c2890a225cc3d6965f"
      },
      "cell_type": "code",
      "source": "oov_glove[:10]",
      "execution_count": null,
      "outputs": []
    },
    {
      "metadata": {
        "trusted": true,
        "_uuid": "739c41f0577dd9c7f668e1884c6556bbf431d15e"
      },
      "cell_type": "code",
      "source": "# Apply lowerization (necessary if using paragram)\n# Fasttext and GloVe understand capitalization, but you still win a bit.\n\n# Paragram seems to have a significantly lower coverage.\n# That's because it does not understand upper letters, let us lower our texts\n\n# If you apply lowerization, you lost a bit of informations on other embeddings :\n# There are words known that are known with upper letters and unknown without. Let us fix that\n# word.lower() takes the embedding of word if word.lower() doesn't have an embedding\n\ndef add_lower(embedding, vocab):\n    count = 0\n    for word in vocab:\n        if word in embedding and word.lower() not in embedding:  \n            embedding[word.lower()] = embedding[word]\n            count += 1\n    print(f\"Added {count} words to embedding\")",
      "execution_count": null,
      "outputs": []
    },
    {
      "metadata": {
        "trusted": true,
        "_uuid": "c7d21885e1de594d4b3d1932a0bca67b5188e8d2"
      },
      "cell_type": "code",
      "source": "df['lowered_question'] = df['question_text'].apply(lambda x: x.lower())",
      "execution_count": null,
      "outputs": []
    },
    {
      "metadata": {
        "trusted": true,
        "_uuid": "0a6fca573a785c9f6c97019acf11a4f574bca4c6"
      },
      "cell_type": "code",
      "source": "print(\"Glove: \")\noov_glove = check_coverage(vocab, embed_glove)\nadd_lower(embed_glove, vocab)\noov_glove = check_coverage(vocab, embed_glove)\n\n# print(\"\\nParagram: \")\n# oov_glove = check_coverage(vocab, embed_paragram)\n# add_lower(embed_paragram, vocab)\n# oov_glove = check_coverage(vocab, embed_paragram)\n\n# print(\"\\nFastText: \")\n# oov_fasttext = check_coverage(vocab, embed_fasttext)\n# add_lower(embed_fasttext, vocab)\n# oov_fasttext = check_coverage(vocab, embed_fasttext)",
      "execution_count": null,
      "outputs": []
    },
    {
      "metadata": {
        "_uuid": "7be49bd5ae936c9673b85b04dbf27d8d91205a9e"
      },
      "cell_type": "markdown",
      "source": "not much change"
    },
    {
      "metadata": {
        "trusted": true,
        "_uuid": "6186e7961ac307e2843ab249141831f90f24afc1"
      },
      "cell_type": "code",
      "source": "oov_glove[:10] # equivalent to others",
      "execution_count": null,
      "outputs": []
    },
    {
      "metadata": {
        "_uuid": "c9db3971613c9bf6e7f7efed7d53388be099cbd4"
      },
      "cell_type": "markdown",
      "source": "First faults appearing are:\n\n* Contractions\n* Words with punctuation in them"
    },
    {
      "metadata": {
        "trusted": true,
        "_uuid": "2a288f89230620c46b061f30ee5b0f02a9e759aa"
      },
      "cell_type": "code",
      "source": "contraction_mapping = {\"ain't\": \"is not\", \"aren't\": \"are not\",\"can't\": \"cannot\", \"'cause\": \"because\", \"could've\": \"could have\", \"couldn't\": \"could not\", \"didn't\": \"did not\",  \"doesn't\": \"does not\", \"don't\": \"do not\", \"hadn't\": \"had not\", \"hasn't\": \"has not\", \"haven't\": \"have not\", \"he'd\": \"he would\",\"he'll\": \"he will\", \"he's\": \"he is\", \"how'd\": \"how did\", \"how'd'y\": \"how do you\", \"how'll\": \"how will\", \"how's\": \"how is\",  \"I'd\": \"I would\", \"I'd've\": \"I would have\", \"I'll\": \"I will\", \"I'll've\": \"I will have\",\"I'm\": \"I am\", \"I've\": \"I have\", \"i'd\": \"i would\", \"i'd've\": \"i would have\", \"i'll\": \"i will\",  \"i'll've\": \"i will have\",\"i'm\": \"i am\", \"i've\": \"i have\", \"isn't\": \"is not\", \"it'd\": \"it would\", \"it'd've\": \"it would have\", \"it'll\": \"it will\", \"it'll've\": \"it will have\",\"it's\": \"it is\", \"let's\": \"let us\", \"ma'am\": \"madam\", \"mayn't\": \"may not\", \"might've\": \"might have\",\"mightn't\": \"might not\",\"mightn't've\": \"might not have\", \"must've\": \"must have\", \"mustn't\": \"must not\", \"mustn't've\": \"must not have\", \"needn't\": \"need not\", \"needn't've\": \"need not have\",\"o'clock\": \"of the clock\", \"oughtn't\": \"ought not\", \"oughtn't've\": \"ought not have\", \"shan't\": \"shall not\", \"sha'n't\": \"shall not\", \"shan't've\": \"shall not have\", \"she'd\": \"she would\", \"she'd've\": \"she would have\", \"she'll\": \"she will\", \"she'll've\": \"she will have\", \"she's\": \"she is\", \"should've\": \"should have\", \"shouldn't\": \"should not\", \"shouldn't've\": \"should not have\", \"so've\": \"so have\",\"so's\": \"so as\", \"this's\": \"this is\",\"that'd\": \"that would\", \"that'd've\": \"that would have\", \"that's\": \"that is\", \"there'd\": \"there would\", \"there'd've\": \"there would have\", \"there's\": \"there is\", \"here's\": \"here is\",\"they'd\": \"they would\", \"they'd've\": \"they would have\", \"they'll\": \"they will\", \"they'll've\": \"they will have\", \"they're\": \"they are\", \"they've\": \"they have\", \"to've\": \"to have\", \"wasn't\": \"was not\", \"we'd\": \"we would\", \"we'd've\": \"we would have\", \"we'll\": \"we will\", \"we'll've\": \"we will have\", \"we're\": \"we are\", \"we've\": \"we have\", \"weren't\": \"were not\", \"what'll\": \"what will\", \"what'll've\": \"what will have\", \"what're\": \"what are\",  \"what's\": \"what is\", \"what've\": \"what have\", \"when's\": \"when is\", \"when've\": \"when have\", \"where'd\": \"where did\", \"where's\": \"where is\", \"where've\": \"where have\", \"who'll\": \"who will\", \"who'll've\": \"who will have\", \"who's\": \"who is\", \"who've\": \"who have\", \"why's\": \"why is\", \"why've\": \"why have\", \"will've\": \"will have\", \"won't\": \"will not\", \"won't've\": \"will not have\", \"would've\": \"would have\", \"wouldn't\": \"would not\", \"wouldn't've\": \"would not have\", \"y'all\": \"you all\", \"y'all'd\": \"you all would\",\"y'all'd've\": \"you all would have\",\"y'all're\": \"you all are\",\"y'all've\": \"you all have\",\"you'd\": \"you would\", \"you'd've\": \"you would have\", \"you'll\": \"you will\", \"you'll've\": \"you will have\", \"you're\": \"you are\", \"you've\": \"you have\"}",
      "execution_count": null,
      "outputs": []
    },
    {
      "metadata": {
        "trusted": true,
        "_uuid": "76bc0e5c4205556396549b99a62152aebd8d1821"
      },
      "cell_type": "code",
      "source": "def known_contractions(embed):\n    known = []\n    for contract in contraction_mapping:\n        if contract in embed:\n            known.append(contract)\n    return known",
      "execution_count": null,
      "outputs": []
    },
    {
      "metadata": {
        "trusted": true,
        "_uuid": "caa9e7c83ab17fcd1b9509ac03eb0a00fe368f00"
      },
      "cell_type": "code",
      "source": "print(\"- Known Contractions -\")\nprint(\"Glove:\")\nprint(known_contractions(embed_glove))\n#print(\"\\nParagram:\")\n#print(known_contractions(embed_paragram))\n#print(\"\\nFastText:\")\n#print(known_contractions(embed_fasttext))",
      "execution_count": null,
      "outputs": []
    },
    {
      "metadata": {
        "trusted": true,
        "_uuid": "3cea9566f77e7d5b977b85d5bdeb8fffee15d555"
      },
      "cell_type": "code",
      "source": "def clean_contractions(text, mapping):\n    specials = [\"’\", \"‘\", \"´\", \"`\"]\n    for s in specials:\n        text = text.replace(s, \"'\")\n    text = ' '.join([mapping[t] if t in mapping else t for t in text.split(\" \")])\n    return text",
      "execution_count": null,
      "outputs": []
    },
    {
      "metadata": {
        "trusted": true,
        "_uuid": "5bd114d40be132769c5341d903234ab7b0ac7ff0"
      },
      "cell_type": "code",
      "source": "df['treated_question'] = df['lowered_question'].apply(lambda x: clean_contractions(x, contraction_mapping))",
      "execution_count": null,
      "outputs": []
    },
    {
      "metadata": {
        "trusted": true,
        "_uuid": "28782b734a20f377c2b280bda51da3ed5bfa79d8"
      },
      "cell_type": "code",
      "source": "vocab = build_vocab(df['treated_question'])\nprint(\"Glove: \")\noov_glove = check_coverage(vocab, embed_glove)\n#print(\"Paragram: \")\n#oov_paragram = check_coverage(vocab, embed_paragram)\n#print(\"FastText: \")\n#oov_fasttext = check_coverage(vocab, embed_fasttext)",
      "execution_count": null,
      "outputs": []
    },
    {
      "metadata": {
        "trusted": true,
        "_uuid": "80f21cfb0893960ebb100066d77ac11d54b19217"
      },
      "cell_type": "code",
      "source": "oov_glove[:10]",
      "execution_count": null,
      "outputs": []
    },
    {
      "metadata": {
        "trusted": true,
        "_uuid": "7d885566c01a062ca5d5bc6b48db1e85629cdc00"
      },
      "cell_type": "code",
      "source": "punct = \"/-'?!.,#$%\\'()*+-/:;<=>@[\\\\]^_`{|}~\" + '\"\"“”’' + '∞θ÷α•à−β∅³π‘₹´°£€\\×™√²—–&'\n\ndef unknown_punct(embed, punct):\n    unknown = ''\n    for p in punct:\n        if p not in embed:\n            unknown += p\n            unknown += ' '\n    return unknown",
      "execution_count": null,
      "outputs": []
    },
    {
      "metadata": {
        "trusted": true,
        "_uuid": "753116744911a618a26d6d40c8414d2f80e35ff5"
      },
      "cell_type": "code",
      "source": "print(\"Glove:\")\nprint(unknown_punct(embed_glove, punct))",
      "execution_count": null,
      "outputs": []
    },
    {
      "metadata": {
        "trusted": true,
        "_uuid": "a4e56c2af38825e6fb06314ce22c63f8f7302b24"
      },
      "cell_type": "code",
      "source": "punct_mapping = {\"‘\": \"'\", \"₹\": \"e\", \"´\": \"'\", \"°\": \"\", \"€\": \"e\", \"™\": \"tm\", \"√\": \" sqrt \", \"×\": \"x\", \"²\": \"2\", \"—\": \"-\", \"–\": \"-\", \"’\": \"'\", \"_\": \"-\", \"`\": \"'\", '“': '\"', '”': '\"', '“': '\"', \"£\": \"e\", '∞': 'infinity', 'θ': 'theta', '÷': '/', 'α': 'alpha', '•': '.', 'à': 'a', '−': '-', 'β': 'beta', '∅': '', '³': '3', 'π': 'pi', }\n\ndef clean_special_chars(text, punct, mapping):\n    for p in mapping:\n        text = text.replace(p, mapping[p])\n    \n    for p in punct:\n        text = text.replace(p, f' {p} ')\n    \n    return text",
      "execution_count": null,
      "outputs": []
    },
    {
      "metadata": {
        "trusted": true,
        "_uuid": "8cbf6bd19a1233519fd30c97f027d5a27297a078"
      },
      "cell_type": "code",
      "source": "df['treated_question'] = df['treated_question'].apply(lambda x: clean_special_chars(x, punct, punct_mapping))",
      "execution_count": null,
      "outputs": []
    },
    {
      "metadata": {
        "trusted": true,
        "_uuid": "a357f8ed7a72122aa35afa4884e605b1e74b7628"
      },
      "cell_type": "code",
      "source": "vocab = build_vocab(df['treated_question'])\nprint(\"Glove: \")\noov_glove = check_coverage(vocab, embed_glove)",
      "execution_count": null,
      "outputs": []
    },
    {
      "metadata": {
        "trusted": true,
        "_uuid": "7a489d2ae316d6f5f8a38565e52dcde8c9423057"
      },
      "cell_type": "code",
      "source": "oov_glove[:10]",
      "execution_count": null,
      "outputs": []
    },
    {
      "metadata": {
        "trusted": true,
        "_uuid": "e29fa9c308fe156679e0bb154c3f199c3179d2bf"
      },
      "cell_type": "markdown",
      "source": "# Model"
    },
    {
      "metadata": {
        "trusted": true,
        "_uuid": "cf5c2c0005e0aa17d00e89d5974406268722e8d0"
      },
      "cell_type": "code",
      "source": "",
      "execution_count": null,
      "outputs": []
    }
  ],
  "metadata": {
    "kernelspec": {
      "display_name": "Python 3",
      "language": "python",
      "name": "python3"
    },
    "language_info": {
      "name": "python",
      "version": "3.6.6",
      "mimetype": "text/x-python",
      "codemirror_mode": {
        "name": "ipython",
        "version": 3
      },
      "pygments_lexer": "ipython3",
      "nbconvert_exporter": "python",
      "file_extension": ".py"
    }
  },
  "nbformat": 4,
  "nbformat_minor": 1
}