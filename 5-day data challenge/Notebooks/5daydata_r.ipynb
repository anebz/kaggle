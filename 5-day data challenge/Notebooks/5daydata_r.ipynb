{
  "cells": [
    {
      "cell_type": "code",
      "execution_count": 7,
      "metadata": {
        "_cell_guid": "51f8750e-0f09-49b9-ae94-76901b0c0602",
        "_execution_state": "idle",
        "_uuid": "90ca14dff61c29665f4e2bc7b2e2959bfc40481c"
      },
      "outputs": [],
      "source": [
        "# This R environment comes with all of CRAN preinstalled, as well as many other helpful packages\n",
        "# The environment is defined by the kaggle/rstats docker image: https://github.com/kaggle/docker-rstats\n",
        "# For example, here's several helpful packages to load in \n",
        "\n",
        "library(ggplot2) # Data visualization\n",
        "library(readr) # CSV file I/O, e.g. the read_csv function\n",
        "library(tidyverse)\n",
        "library(janitor)\n",
        "\n",
        "# Input data files are available in the \"../input/\" directory.\n",
        "# For example, running this (by clicking run or pressing Shift+Enter) will list the files in the input directory\n",
        "\n",
        "system(\"ls ../input\")\n",
        "\n",
        "# Any results you write to the current directory are saved as output."
      ]
    },
    {
      "cell_type": "markdown",
      "metadata": {
        "_cell_guid": "e085ad61-a1d5-490d-b15a-fe4e0ed405a5",
        "_uuid": "4291d71a6b943a34412663320252cebb5a20acbb"
      },
      "source": [
        "Read csv from tidyverse library"
      ]
    },
    {
      "cell_type": "code",
      "execution_count": 10,
      "metadata": {
        "_cell_guid": "f05abf00-9955-45b6-92cd-87b83e1b5291",
        "_uuid": "7abb23c073ba1c76d17128ed2b00ef0463bcab0e"
      },
      "outputs": [
        {
          "name": "stderr",
          "output_type": "stream",
          "text": [
            "Parsed with column specification:\n",
            "cols(\n",
            "  HALTER_ID = col_double(),\n",
            "  ALTER = col_character(),\n",
            "  GESCHLECHT = col_character(),\n",
            "  STADTKREIS = col_double(),\n",
            "  STADTQUARTIER = col_double(),\n",
            "  RASSE1 = col_character(),\n",
            "  RASSE1_MISCHLING = col_character(),\n",
            "  RASSE2 = col_character(),\n",
            "  RASSE2_MISCHLING = col_logical(),\n",
            "  RASSENTYP = col_character(),\n",
            "  GEBURTSJAHR_HUND = col_double(),\n",
            "  GESCHLECHT_HUND = col_character(),\n",
            "  HUNDEFARBE = col_character()\n",
            ")\n"
          ]
        },
        {
          "data": {
            "text/plain": [
              "   halter_id         alter            geschlecht          stadtkreis    \n",
              " Min.   :   126   Length:6980        Length:6980        Min.   : 1.000  \n",
              " 1st Qu.: 87584   Class :character   Class :character   1st Qu.: 4.000  \n",
              " Median :100002   Mode  :character   Mode  :character   Median : 8.000  \n",
              " Mean   :101490                                         Mean   : 7.421  \n",
              " 3rd Qu.:118902                                         3rd Qu.:10.000  \n",
              " Max.   :128485                                         Max.   :12.000  \n",
              "                                                        NA's   :2       \n",
              " stadtquartier       rasse1          rasse1_mischling      rasse2         \n",
              " Min.   :  2.00   Length:6980        Length:6980        Length:6980       \n",
              " 1st Qu.: 44.00   Class :character   Class :character   Class :character  \n",
              " Median : 81.00   Mode  :character   Mode  :character   Mode  :character  \n",
              " Mean   : 76.78                                                           \n",
              " 3rd Qu.:102.00                                                           \n",
              " Max.   :123.00                                                           \n",
              " NA's   :2                                                                \n",
              " rasse2_mischling  rassentyp         geburtsjahr_hund geschlecht_hund   \n",
              " Mode:logical     Length:6980        Min.   :   1     Length:6980       \n",
              " NA's:6980        Class :character   1st Qu.:2005     Class :character  \n",
              "                  Mode  :character   Median :2009     Mode  :character  \n",
              "                                     Mean   :2008                       \n",
              "                                     3rd Qu.:2012                       \n",
              "                                     Max.   :5012                       \n",
              "                                                                        \n",
              "  hundefarbe       \n",
              " Length:6980       \n",
              " Class :character  \n",
              " Mode  :character  \n",
              "                   \n",
              "                   \n",
              "                   \n",
              "                   "
            ]
          },
          "metadata": {},
          "output_type": "display_data"
        }
      ],
      "source": [
        "# day1\n",
        "# assign dataframe to a variable and summarize it\n",
        "df <- read_csv(\"../input/20151001hundehalter.csv\") %>%\n",
        "                clean_names()\n",
        "summary(df)"
      ]
    },
    {
      "cell_type": "code",
      "execution_count": null,
      "metadata": {
        "_cell_guid": "5f500f51-e632-4db9-a03b-f52203e7ab59",
        "_uuid": "16e039239c2864b783c430d774a5cbe91948dbd0"
      },
      "outputs": [],
      "source": [
        "# day2\n",
        "# library(ggplot2) # not necessary because it's included in the tidyverse library\n",
        "ggplot(df, aes(df$stadtkreis)) + # access to column \n",
        "# (df$stadtkreis) == (x = stadtkreis)\n",
        "    geom_histogram(bins = 10) + # histogram, bins = X is optional and it says in how many groups you want to save the bars.\n",
        "    ggtitle(\"City quarter / district\")\n",
        "\n"
      ]
    }
  ],
  "metadata": {
    "kernelspec": {
      "display_name": "R",
      "language": "R",
      "name": "ir"
    },
    "language_info": {
      "codemirror_mode": "r",
      "file_extension": ".r",
      "mimetype": "text/x-r-source",
      "name": "R",
      "pygments_lexer": "r",
      "version": "3.4.2"
    }
  },
  "nbformat": 4,
  "nbformat_minor": 1
}